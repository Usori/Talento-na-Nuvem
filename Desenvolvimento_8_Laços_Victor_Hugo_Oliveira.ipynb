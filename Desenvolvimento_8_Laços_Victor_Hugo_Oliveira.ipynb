{
  "nbformat": 4,
  "nbformat_minor": 0,
  "metadata": {
    "colab": {
      "provenance": [],
      "authorship_tag": "ABX9TyNN6aDQnnBlHaAACjNaBm6R",
      "include_colab_link": true
    },
    "kernelspec": {
      "name": "python3",
      "display_name": "Python 3"
    },
    "language_info": {
      "name": "python"
    }
  },
  "cells": [
    {
      "cell_type": "markdown",
      "metadata": {
        "id": "view-in-github",
        "colab_type": "text"
      },
      "source": [
        "<a href=\"https://colab.research.google.com/github/Usori/Talento-na-Nuvem/blob/main/Desenvolvimento_8_La%C3%A7os_Victor_Hugo_Oliveira.ipynb\" target=\"_parent\"><img src=\"https://colab.research.google.com/assets/colab-badge.svg\" alt=\"Open In Colab\"/></a>"
      ]
    },
    {
      "cell_type": "markdown",
      "source": [
        "#Instruções\n",
        "\n",
        "Precisamos imprimir um número para cada andar de um hotel de 20 andares. Porém, o dono do hotel é supersticioso e optou por não ter um 13º andar.\n",
        "\n",
        "Escreva um código que imprima todos os números exceto o número 13.\n",
        "Escreva mais dois códigos que resolvam o mesmo problema, mas dessa vez usando os outros dois tipos de laços de repetição aprendidos.\n",
        "\n",
        "Como desafio, imprima eles em ordem decrescente (20, 19, 18...)"
      ],
      "metadata": {
        "id": "dLFmWcqr_xVL"
      }
    },
    {
      "cell_type": "code",
      "source": [
        "numero_alvo = 4 # superstição japonesa"
      ],
      "metadata": {
        "id": "KQb-kPHgAlQ_"
      },
      "execution_count": 7,
      "outputs": []
    },
    {
      "cell_type": "code",
      "source": [
        "for i in range(1,21):\n",
        "  if i == numero_alvo:\n",
        "    print(\"ANDAR PULADO! (SUPERSTIÇÃO)\")\n",
        "    continue\n",
        "\n",
        "  print(f\"Andar: {i:2d}\")"
      ],
      "metadata": {
        "colab": {
          "base_uri": "https://localhost:8080/"
        },
        "id": "-2IrFnmH_8VP",
        "outputId": "740a672a-91c3-409d-be35-991138b682dc"
      },
      "execution_count": 12,
      "outputs": [
        {
          "output_type": "stream",
          "name": "stdout",
          "text": [
            "Andar:  1\n",
            "Andar:  2\n",
            "Andar:  3\n",
            "ANDAR PULADO! (SUPERSTIÇÃO)\n",
            "Andar:  5\n",
            "Andar:  6\n",
            "Andar:  7\n",
            "Andar:  8\n",
            "Andar:  9\n",
            "Andar: 10\n",
            "Andar: 11\n",
            "Andar: 12\n",
            "Andar: 13\n",
            "Andar: 14\n",
            "Andar: 15\n",
            "Andar: 16\n",
            "Andar: 17\n",
            "Andar: 18\n",
            "Andar: 19\n",
            "Andar: 20\n"
          ]
        }
      ]
    },
    {
      "cell_type": "code",
      "source": [
        "for i in range(1,21,1):\n",
        "  if i == numero_alvo:\n",
        "    print(\"ANDAR PULADO! (SUPERSTIÇÃO)\")\n",
        "    continue\n",
        "\n",
        "  print(f\"Andar: {i:2d}\")"
      ],
      "metadata": {
        "colab": {
          "base_uri": "https://localhost:8080/"
        },
        "id": "Avm5a82CAWgA",
        "outputId": "b591284c-edc6-41ae-cd09-1db8b6bb77d5"
      },
      "execution_count": 13,
      "outputs": [
        {
          "output_type": "stream",
          "name": "stdout",
          "text": [
            "Andar:  1\n",
            "Andar:  2\n",
            "Andar:  3\n",
            "ANDAR PULADO! (SUPERSTIÇÃO)\n",
            "Andar:  5\n",
            "Andar:  6\n",
            "Andar:  7\n",
            "Andar:  8\n",
            "Andar:  9\n",
            "Andar: 10\n",
            "Andar: 11\n",
            "Andar: 12\n",
            "Andar: 13\n",
            "Andar: 14\n",
            "Andar: 15\n",
            "Andar: 16\n",
            "Andar: 17\n",
            "Andar: 18\n",
            "Andar: 19\n",
            "Andar: 20\n"
          ]
        }
      ]
    },
    {
      "cell_type": "code",
      "source": [
        "i = 1\n",
        "while i <= 20:\n",
        "  if i == numero_alvo:\n",
        "    print(\"ANDAR PULADO! (SUPERSTIÇÃO)\")\n",
        "    i+=1\n",
        "    continue\n",
        "\n",
        "  print(f\"Andar: {i:2d}\")\n",
        "  i += 1"
      ],
      "metadata": {
        "colab": {
          "base_uri": "https://localhost:8080/"
        },
        "id": "lbphjZ9TAKc3",
        "outputId": "52e949dd-7c4e-4e61-dee4-c1f1ed375571"
      },
      "execution_count": 15,
      "outputs": [
        {
          "output_type": "stream",
          "name": "stdout",
          "text": [
            "Andar:  1\n",
            "Andar:  2\n",
            "Andar:  3\n",
            "ANDAR PULADO! (SUPERSTIÇÃO)\n",
            "Andar:  5\n",
            "Andar:  6\n",
            "Andar:  7\n",
            "Andar:  8\n",
            "Andar:  9\n",
            "Andar: 10\n",
            "Andar: 11\n",
            "Andar: 12\n",
            "Andar: 13\n",
            "Andar: 14\n",
            "Andar: 15\n",
            "Andar: 16\n",
            "Andar: 17\n",
            "Andar: 18\n",
            "Andar: 19\n",
            "Andar: 20\n"
          ]
        }
      ]
    },
    {
      "cell_type": "code",
      "source": [
        "# Desafio Decrescente\n",
        "for i in range(20,0,-1):\n",
        "  if i == numero_alvo:\n",
        "    print(\"ANDAR PULADO! (SUPERSTIÇÃO)\")\n",
        "    continue\n",
        "\n",
        "  print(f\"Andar: {i:2d}\")"
      ],
      "metadata": {
        "colab": {
          "base_uri": "https://localhost:8080/"
        },
        "id": "l1TrbcUlAY5o",
        "outputId": "017f7f05-99fb-4dba-dfe6-85ecddd8bfe1"
      },
      "execution_count": 16,
      "outputs": [
        {
          "output_type": "stream",
          "name": "stdout",
          "text": [
            "Andar: 20\n",
            "Andar: 19\n",
            "Andar: 18\n",
            "Andar: 17\n",
            "Andar: 16\n",
            "Andar: 15\n",
            "Andar: 14\n",
            "Andar: 13\n",
            "Andar: 12\n",
            "Andar: 11\n",
            "Andar: 10\n",
            "Andar:  9\n",
            "Andar:  8\n",
            "Andar:  7\n",
            "Andar:  6\n",
            "Andar:  5\n",
            "ANDAR PULADO! (SUPERSTIÇÃO)\n",
            "Andar:  3\n",
            "Andar:  2\n",
            "Andar:  1\n"
          ]
        }
      ]
    }
  ]
}