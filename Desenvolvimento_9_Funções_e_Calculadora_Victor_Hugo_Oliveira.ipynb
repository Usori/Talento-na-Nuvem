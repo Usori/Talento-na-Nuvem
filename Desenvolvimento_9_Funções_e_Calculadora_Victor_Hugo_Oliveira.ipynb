{
  "nbformat": 4,
  "nbformat_minor": 0,
  "metadata": {
    "colab": {
      "provenance": [],
      "authorship_tag": "ABX9TyOYpz1N1oC6qDvi0oqkFhWS",
      "include_colab_link": true
    },
    "kernelspec": {
      "name": "python3",
      "display_name": "Python 3"
    },
    "language_info": {
      "name": "python"
    }
  },
  "cells": [
    {
      "cell_type": "markdown",
      "metadata": {
        "id": "view-in-github",
        "colab_type": "text"
      },
      "source": [
        "<a href=\"https://colab.research.google.com/github/Usori/Talento-na-Nuvem/blob/main/Desenvolvimento_9_Fun%C3%A7%C3%B5es_e_Calculadora_Victor_Hugo_Oliveira.ipynb\" target=\"_parent\"><img src=\"https://colab.research.google.com/assets/colab-badge.svg\" alt=\"Open In Colab\"/></a>"
      ]
    },
    {
      "cell_type": "markdown",
      "source": [
        "#Instruções\n",
        "\n",
        "Faça uma função calculadora de dois números com três parâmetros: os dois primeiros serão os números da operação e o terceiro será a entrada que definirá a operação a ser executada. Considera a seguinte definição:\n",
        "1. Soma\n",
        "2. Subtração\n",
        "3. Multiplicação\n",
        "4. Divisão\n",
        "\n",
        "Caso seja inserido um número de operação que não exista, o resultado deverá ser 0."
      ],
      "metadata": {
        "id": "0ab9j8KoJ32U"
      }
    },
    {
      "cell_type": "markdown",
      "source": [
        "## Biblioteca \"unidecode\"\n",
        "- Instalando e importando biblioteca de normalização de string;\n",
        "- Testes de uso."
      ],
      "metadata": {
        "id": "B6SwbgLkLADr"
      }
    },
    {
      "cell_type": "code",
      "source": [
        "!pip install unidecode"
      ],
      "metadata": {
        "colab": {
          "base_uri": "https://localhost:8080/"
        },
        "id": "gbbKAbXkK7Oh",
        "outputId": "37e7814f-0cbd-4e7b-e4f3-0303f1fdc0cb"
      },
      "execution_count": 3,
      "outputs": [
        {
          "output_type": "stream",
          "name": "stdout",
          "text": [
            "Collecting unidecode\n",
            "  Downloading Unidecode-1.3.6-py3-none-any.whl (235 kB)\n",
            "\u001b[2K     \u001b[90m━━━━━━━━━━━━━━━━━━━━━━━━━━━━━━━━━━━━━━━\u001b[0m \u001b[32m235.9/235.9 kB\u001b[0m \u001b[31m3.0 MB/s\u001b[0m eta \u001b[36m0:00:00\u001b[0m\n",
            "\u001b[?25hInstalling collected packages: unidecode\n",
            "Successfully installed unidecode-1.3.6\n"
          ]
        }
      ]
    },
    {
      "cell_type": "code",
      "source": [
        "from unidecode import unidecode"
      ],
      "metadata": {
        "id": "jbMy4IpHK3uZ"
      },
      "execution_count": 4,
      "outputs": []
    },
    {
      "cell_type": "code",
      "source": [
        "teste1 = \"Divisão\"\n",
        "normalizar1 = unidecode(teste1)\n",
        "\n",
        "teste2 = \"Essa biblioteca é massa demais. Coração S2\"\n",
        "normalizar2 = unidecode(teste2)\n",
        "\n",
        "print(teste1)\n",
        "print(normalizar1)\n",
        "\n",
        "print()\n",
        "\n",
        "print(teste2)\n",
        "print(normalizar2)"
      ],
      "metadata": {
        "colab": {
          "base_uri": "https://localhost:8080/"
        },
        "id": "CefwMJXQLOuE",
        "outputId": "10970e60-ce75-4836-9055-52e514bca865"
      },
      "execution_count": 10,
      "outputs": [
        {
          "output_type": "stream",
          "name": "stdout",
          "text": [
            "Divisão\n",
            "Divisao\n",
            "\n",
            "Essa biblioteca é massa demais. Coração S2\n",
            "Essa biblioteca e massa demais. Coracao S2\n"
          ]
        }
      ]
    },
    {
      "cell_type": "markdown",
      "source": [
        "## Função Calculadora e Casos Testes"
      ],
      "metadata": {
        "id": "qmypAfQjLHgr"
      }
    },
    {
      "cell_type": "code",
      "source": [
        "import pandas as pd"
      ],
      "metadata": {
        "id": "ag_L9Jj-M4Rz"
      },
      "execution_count": 23,
      "outputs": []
    },
    {
      "cell_type": "code",
      "source": [
        "def calculadora(num1 = 1, num2 = 1, operacao = \"\"):\n",
        "  operacao = (unidecode(operacao)).lower()\n",
        "\n",
        "  if operacao == \"soma\":\n",
        "    return num1+num2\n",
        "\n",
        "  if operacao == \"sub\" or operacao == \"subtracao\":\n",
        "    return num1-num2\n",
        "\n",
        "  if operacao == \"mult\" or operacao == \"multiplicacao\":\n",
        "    return num1*num2\n",
        "\n",
        "  if operacao == \"div\" or operacao == \"divisao\":\n",
        "    if num2 == 0:\n",
        "      return 0\n",
        "\n",
        "    return num1/num2\n",
        "\n",
        "  return 0"
      ],
      "metadata": {
        "id": "4yWLJZBvKEAi"
      },
      "execution_count": 24,
      "outputs": []
    },
    {
      "cell_type": "code",
      "source": [
        "def calculadora_dataframe(row):\n",
        "  return calculadora(row['Num1'], row['Num2'], row['Operação'])"
      ],
      "metadata": {
        "id": "nty0Zyg2OcPk"
      },
      "execution_count": 25,
      "outputs": []
    },
    {
      "cell_type": "code",
      "source": [
        "def normalizar(row):\n",
        "  return unidecode(row['Operação']).lower()"
      ],
      "metadata": {
        "id": "h6CRe_53NwGo"
      },
      "execution_count": 26,
      "outputs": []
    },
    {
      "cell_type": "code",
      "source": [
        "lista_testes = [\n",
        "     [8,2,'soma']\n",
        "    ,[8,2,'SubTração']\n",
        "    ,[8,2,'sub']\n",
        "    ,[8,2,'multiplicacao']\n",
        "    ,[8,2,'mult']\n",
        "    ,[8,2,'div']\n",
        "    ,[8,2,'Divisão']\n",
        "    ,[8,2,'Potenciação']\n",
        "    ,[8,2,'multplicação']\n",
        "]\n",
        "\n",
        "df = pd.DataFrame(lista_testes, columns = [\"Num1\", \"Num2\", \"Operação\"])\n",
        "df['Normalizado'] = df.apply(normalizar, axis=1)\n",
        "df['Resultado'] = df.apply(calculadora_dataframe, axis=1)\n",
        "df"
      ],
      "metadata": {
        "colab": {
          "base_uri": "https://localhost:8080/",
          "height": 331
        },
        "id": "V6VkXrFQMdqb",
        "outputId": "59539bb6-bfe7-45b3-9751-6fe076b9f73c"
      },
      "execution_count": 28,
      "outputs": [
        {
          "output_type": "execute_result",
          "data": {
            "text/plain": [
              "   Num1  Num2       Operação    Normalizado  Resultado\n",
              "0     8     2           soma           soma       10.0\n",
              "1     8     2      SubTração      subtracao        6.0\n",
              "2     8     2            sub            sub        6.0\n",
              "3     8     2  multiplicacao  multiplicacao       16.0\n",
              "4     8     2           mult           mult       16.0\n",
              "5     8     2            div            div        4.0\n",
              "6     8     2        Divisão        divisao        4.0\n",
              "7     8     2    Potenciação    potenciacao        0.0\n",
              "8     8     2   multplicação   multplicacao        0.0"
            ],
            "text/html": [
              "\n",
              "  <div id=\"df-c64b367f-e8bc-491a-93a9-2011af2d8509\" class=\"colab-df-container\">\n",
              "    <div>\n",
              "<style scoped>\n",
              "    .dataframe tbody tr th:only-of-type {\n",
              "        vertical-align: middle;\n",
              "    }\n",
              "\n",
              "    .dataframe tbody tr th {\n",
              "        vertical-align: top;\n",
              "    }\n",
              "\n",
              "    .dataframe thead th {\n",
              "        text-align: right;\n",
              "    }\n",
              "</style>\n",
              "<table border=\"1\" class=\"dataframe\">\n",
              "  <thead>\n",
              "    <tr style=\"text-align: right;\">\n",
              "      <th></th>\n",
              "      <th>Num1</th>\n",
              "      <th>Num2</th>\n",
              "      <th>Operação</th>\n",
              "      <th>Normalizado</th>\n",
              "      <th>Resultado</th>\n",
              "    </tr>\n",
              "  </thead>\n",
              "  <tbody>\n",
              "    <tr>\n",
              "      <th>0</th>\n",
              "      <td>8</td>\n",
              "      <td>2</td>\n",
              "      <td>soma</td>\n",
              "      <td>soma</td>\n",
              "      <td>10.0</td>\n",
              "    </tr>\n",
              "    <tr>\n",
              "      <th>1</th>\n",
              "      <td>8</td>\n",
              "      <td>2</td>\n",
              "      <td>SubTração</td>\n",
              "      <td>subtracao</td>\n",
              "      <td>6.0</td>\n",
              "    </tr>\n",
              "    <tr>\n",
              "      <th>2</th>\n",
              "      <td>8</td>\n",
              "      <td>2</td>\n",
              "      <td>sub</td>\n",
              "      <td>sub</td>\n",
              "      <td>6.0</td>\n",
              "    </tr>\n",
              "    <tr>\n",
              "      <th>3</th>\n",
              "      <td>8</td>\n",
              "      <td>2</td>\n",
              "      <td>multiplicacao</td>\n",
              "      <td>multiplicacao</td>\n",
              "      <td>16.0</td>\n",
              "    </tr>\n",
              "    <tr>\n",
              "      <th>4</th>\n",
              "      <td>8</td>\n",
              "      <td>2</td>\n",
              "      <td>mult</td>\n",
              "      <td>mult</td>\n",
              "      <td>16.0</td>\n",
              "    </tr>\n",
              "    <tr>\n",
              "      <th>5</th>\n",
              "      <td>8</td>\n",
              "      <td>2</td>\n",
              "      <td>div</td>\n",
              "      <td>div</td>\n",
              "      <td>4.0</td>\n",
              "    </tr>\n",
              "    <tr>\n",
              "      <th>6</th>\n",
              "      <td>8</td>\n",
              "      <td>2</td>\n",
              "      <td>Divisão</td>\n",
              "      <td>divisao</td>\n",
              "      <td>4.0</td>\n",
              "    </tr>\n",
              "    <tr>\n",
              "      <th>7</th>\n",
              "      <td>8</td>\n",
              "      <td>2</td>\n",
              "      <td>Potenciação</td>\n",
              "      <td>potenciacao</td>\n",
              "      <td>0.0</td>\n",
              "    </tr>\n",
              "    <tr>\n",
              "      <th>8</th>\n",
              "      <td>8</td>\n",
              "      <td>2</td>\n",
              "      <td>multplicação</td>\n",
              "      <td>multplicacao</td>\n",
              "      <td>0.0</td>\n",
              "    </tr>\n",
              "  </tbody>\n",
              "</table>\n",
              "</div>\n",
              "    <div class=\"colab-df-buttons\">\n",
              "\n",
              "  <div class=\"colab-df-container\">\n",
              "    <button class=\"colab-df-convert\" onclick=\"convertToInteractive('df-c64b367f-e8bc-491a-93a9-2011af2d8509')\"\n",
              "            title=\"Convert this dataframe to an interactive table.\"\n",
              "            style=\"display:none;\">\n",
              "\n",
              "  <svg xmlns=\"http://www.w3.org/2000/svg\" height=\"24px\" viewBox=\"0 -960 960 960\">\n",
              "    <path d=\"M120-120v-720h720v720H120Zm60-500h600v-160H180v160Zm220 220h160v-160H400v160Zm0 220h160v-160H400v160ZM180-400h160v-160H180v160Zm440 0h160v-160H620v160ZM180-180h160v-160H180v160Zm440 0h160v-160H620v160Z\"/>\n",
              "  </svg>\n",
              "    </button>\n",
              "\n",
              "  <style>\n",
              "    .colab-df-container {\n",
              "      display:flex;\n",
              "      gap: 12px;\n",
              "    }\n",
              "\n",
              "    .colab-df-convert {\n",
              "      background-color: #E8F0FE;\n",
              "      border: none;\n",
              "      border-radius: 50%;\n",
              "      cursor: pointer;\n",
              "      display: none;\n",
              "      fill: #1967D2;\n",
              "      height: 32px;\n",
              "      padding: 0 0 0 0;\n",
              "      width: 32px;\n",
              "    }\n",
              "\n",
              "    .colab-df-convert:hover {\n",
              "      background-color: #E2EBFA;\n",
              "      box-shadow: 0px 1px 2px rgba(60, 64, 67, 0.3), 0px 1px 3px 1px rgba(60, 64, 67, 0.15);\n",
              "      fill: #174EA6;\n",
              "    }\n",
              "\n",
              "    .colab-df-buttons div {\n",
              "      margin-bottom: 4px;\n",
              "    }\n",
              "\n",
              "    [theme=dark] .colab-df-convert {\n",
              "      background-color: #3B4455;\n",
              "      fill: #D2E3FC;\n",
              "    }\n",
              "\n",
              "    [theme=dark] .colab-df-convert:hover {\n",
              "      background-color: #434B5C;\n",
              "      box-shadow: 0px 1px 3px 1px rgba(0, 0, 0, 0.15);\n",
              "      filter: drop-shadow(0px 1px 2px rgba(0, 0, 0, 0.3));\n",
              "      fill: #FFFFFF;\n",
              "    }\n",
              "  </style>\n",
              "\n",
              "    <script>\n",
              "      const buttonEl =\n",
              "        document.querySelector('#df-c64b367f-e8bc-491a-93a9-2011af2d8509 button.colab-df-convert');\n",
              "      buttonEl.style.display =\n",
              "        google.colab.kernel.accessAllowed ? 'block' : 'none';\n",
              "\n",
              "      async function convertToInteractive(key) {\n",
              "        const element = document.querySelector('#df-c64b367f-e8bc-491a-93a9-2011af2d8509');\n",
              "        const dataTable =\n",
              "          await google.colab.kernel.invokeFunction('convertToInteractive',\n",
              "                                                    [key], {});\n",
              "        if (!dataTable) return;\n",
              "\n",
              "        const docLinkHtml = 'Like what you see? Visit the ' +\n",
              "          '<a target=\"_blank\" href=https://colab.research.google.com/notebooks/data_table.ipynb>data table notebook</a>'\n",
              "          + ' to learn more about interactive tables.';\n",
              "        element.innerHTML = '';\n",
              "        dataTable['output_type'] = 'display_data';\n",
              "        await google.colab.output.renderOutput(dataTable, element);\n",
              "        const docLink = document.createElement('div');\n",
              "        docLink.innerHTML = docLinkHtml;\n",
              "        element.appendChild(docLink);\n",
              "      }\n",
              "    </script>\n",
              "  </div>\n",
              "\n",
              "\n",
              "<div id=\"df-18c0d4e5-0c37-4c17-81ec-0bf793bdbfb2\">\n",
              "  <button class=\"colab-df-quickchart\" onclick=\"quickchart('df-18c0d4e5-0c37-4c17-81ec-0bf793bdbfb2')\"\n",
              "            title=\"Suggest charts.\"\n",
              "            style=\"display:none;\">\n",
              "\n",
              "<svg xmlns=\"http://www.w3.org/2000/svg\" height=\"24px\"viewBox=\"0 0 24 24\"\n",
              "     width=\"24px\">\n",
              "    <g>\n",
              "        <path d=\"M19 3H5c-1.1 0-2 .9-2 2v14c0 1.1.9 2 2 2h14c1.1 0 2-.9 2-2V5c0-1.1-.9-2-2-2zM9 17H7v-7h2v7zm4 0h-2V7h2v10zm4 0h-2v-4h2v4z\"/>\n",
              "    </g>\n",
              "</svg>\n",
              "  </button>\n",
              "\n",
              "<style>\n",
              "  .colab-df-quickchart {\n",
              "    background-color: #E8F0FE;\n",
              "    border: none;\n",
              "    border-radius: 50%;\n",
              "    cursor: pointer;\n",
              "    display: none;\n",
              "    fill: #1967D2;\n",
              "    height: 32px;\n",
              "    padding: 0 0 0 0;\n",
              "    width: 32px;\n",
              "  }\n",
              "\n",
              "  .colab-df-quickchart:hover {\n",
              "    background-color: #E2EBFA;\n",
              "    box-shadow: 0px 1px 2px rgba(60, 64, 67, 0.3), 0px 1px 3px 1px rgba(60, 64, 67, 0.15);\n",
              "    fill: #174EA6;\n",
              "  }\n",
              "\n",
              "  [theme=dark] .colab-df-quickchart {\n",
              "    background-color: #3B4455;\n",
              "    fill: #D2E3FC;\n",
              "  }\n",
              "\n",
              "  [theme=dark] .colab-df-quickchart:hover {\n",
              "    background-color: #434B5C;\n",
              "    box-shadow: 0px 1px 3px 1px rgba(0, 0, 0, 0.15);\n",
              "    filter: drop-shadow(0px 1px 2px rgba(0, 0, 0, 0.3));\n",
              "    fill: #FFFFFF;\n",
              "  }\n",
              "</style>\n",
              "\n",
              "  <script>\n",
              "    async function quickchart(key) {\n",
              "      const charts = await google.colab.kernel.invokeFunction(\n",
              "          'suggestCharts', [key], {});\n",
              "    }\n",
              "    (() => {\n",
              "      let quickchartButtonEl =\n",
              "        document.querySelector('#df-18c0d4e5-0c37-4c17-81ec-0bf793bdbfb2 button');\n",
              "      quickchartButtonEl.style.display =\n",
              "        google.colab.kernel.accessAllowed ? 'block' : 'none';\n",
              "    })();\n",
              "  </script>\n",
              "</div>\n",
              "    </div>\n",
              "  </div>\n"
            ]
          },
          "metadata": {},
          "execution_count": 28
        }
      ]
    }
  ]
}